{
 "cells": [
  {
   "cell_type": "markdown",
   "metadata": {},
   "source": [
    "Surrogate modeling\n",
    "\n",
    "1. This script integrates Pyro for MCMC and TensorFlow for the neural network.\n",
    "2. Given the large number of sequences and the time it might take for MCMC to sample for each sequence, this script can be time-consuming. Depending on the size of your data, you might want to consider using a subset or parallelizing the MCMC sampling process.\n",
    "3. This script does not utilize GPU acceleration for Pyro or TensorFlow, but both support it. Leveraging a GPU can improve performance."
   ]
  },
  {
   "cell_type": "code",
   "execution_count": 1,
   "metadata": {},
   "outputs": [
    {
     "ename": "",
     "evalue": "",
     "output_type": "error",
     "traceback": [
      "\u001b[1;31mDer Code kann nicht ausgeführt werden, die Sitzung wurde verworfen. Versuchen Sie, den Kernel neu zu starten."
     ]
    },
    {
     "ename": "",
     "evalue": "",
     "output_type": "error",
     "traceback": [
      "\u001b[1;31mDer Kernel ist beim Ausführen von Code in der aktuellen Zelle oder einer vorherigen Zelle abgestürzt. Bitte überprüfen Sie den Code in der/den Zelle(n), um eine mögliche Fehlerursache zu identifizieren. Klicken Sie <a href='https://aka.ms/vscodeJupyterKernelCrash'>hier</a>, um weitere Informationen zu erhalten. Weitere Details finden Sie in Jupyter <a href='command:jupyter.viewOutput'>log</a>."
     ]
    }
   ],
   "source": [
    "import tensorflow as tf"
   ]
  },
  {
   "cell_type": "code",
   "execution_count": 1,
   "metadata": {},
   "outputs": [
    {
     "name": "stderr",
     "output_type": "stream",
     "text": [
      "/Users/ericvanlessen/opt/anaconda3/envs/env-IDS2021/lib/python3.10/site-packages/tqdm/auto.py:21: TqdmWarning: IProgress not found. Please update jupyter and ipywidgets. See https://ipywidgets.readthedocs.io/en/stable/user_install.html\n",
      "  from .autonotebook import tqdm as notebook_tqdm\n"
     ]
    }
   ],
   "source": [
    "import logging\n",
    "import os\n",
    "\n",
    "import torch\n",
    "import numpy as np\n",
    "import pandas as pd\n",
    "import seaborn as sns\n",
    "import matplotlib.pyplot as plt\n",
    "\n",
    "import pyro"
   ]
  },
  {
   "cell_type": "code",
   "execution_count": 2,
   "metadata": {},
   "outputs": [],
   "source": [
    "import pyro.distributions as dist"
   ]
  },
  {
   "cell_type": "code",
   "execution_count": 3,
   "metadata": {},
   "outputs": [],
   "source": [
    "from pyro.infer import MCMC, NUTS"
   ]
  },
  {
   "cell_type": "code",
   "execution_count": null,
   "metadata": {},
   "outputs": [
    {
     "data": {
      "text/html": [
       "<div>\n",
       "<style scoped>\n",
       "    .dataframe tbody tr th:only-of-type {\n",
       "        vertical-align: middle;\n",
       "    }\n",
       "\n",
       "    .dataframe tbody tr th {\n",
       "        vertical-align: top;\n",
       "    }\n",
       "\n",
       "    .dataframe thead th {\n",
       "        text-align: right;\n",
       "    }\n",
       "</style>\n",
       "<table border=\"1\" class=\"dataframe\">\n",
       "  <thead>\n",
       "    <tr style=\"text-align: right;\">\n",
       "      <th></th>\n",
       "      <th>Unix</th>\n",
       "      <th>Date</th>\n",
       "      <th>Symbol</th>\n",
       "      <th>Open</th>\n",
       "      <th>High</th>\n",
       "      <th>Low</th>\n",
       "      <th>Close</th>\n",
       "      <th>Volume 1INCH</th>\n",
       "      <th>Volume BTC</th>\n",
       "      <th>tradecount</th>\n",
       "    </tr>\n",
       "  </thead>\n",
       "  <tbody>\n",
       "    <tr>\n",
       "      <th>0</th>\n",
       "      <td>1690243200000</td>\n",
       "      <td>2023-07-25</td>\n",
       "      <td>1INCHBTC</td>\n",
       "      <td>0.000010</td>\n",
       "      <td>0.000011</td>\n",
       "      <td>0.000010</td>\n",
       "      <td>0.000010</td>\n",
       "      <td>399437.3</td>\n",
       "      <td>4.161505</td>\n",
       "      <td>1429</td>\n",
       "    </tr>\n",
       "    <tr>\n",
       "      <th>1</th>\n",
       "      <td>1690156800000</td>\n",
       "      <td>2023-07-24</td>\n",
       "      <td>1INCHBTC</td>\n",
       "      <td>0.000011</td>\n",
       "      <td>0.000011</td>\n",
       "      <td>0.000010</td>\n",
       "      <td>0.000010</td>\n",
       "      <td>1888337.1</td>\n",
       "      <td>19.609790</td>\n",
       "      <td>4082</td>\n",
       "    </tr>\n",
       "    <tr>\n",
       "      <th>2</th>\n",
       "      <td>1690070400000</td>\n",
       "      <td>2023-07-23</td>\n",
       "      <td>1INCHBTC</td>\n",
       "      <td>0.000011</td>\n",
       "      <td>0.000011</td>\n",
       "      <td>0.000011</td>\n",
       "      <td>0.000011</td>\n",
       "      <td>503804.1</td>\n",
       "      <td>5.515540</td>\n",
       "      <td>1344</td>\n",
       "    </tr>\n",
       "    <tr>\n",
       "      <th>3</th>\n",
       "      <td>1689984000000</td>\n",
       "      <td>2023-07-22</td>\n",
       "      <td>1INCHBTC</td>\n",
       "      <td>0.000011</td>\n",
       "      <td>0.000011</td>\n",
       "      <td>0.000011</td>\n",
       "      <td>0.000011</td>\n",
       "      <td>771830.4</td>\n",
       "      <td>8.620545</td>\n",
       "      <td>2201</td>\n",
       "    </tr>\n",
       "    <tr>\n",
       "      <th>4</th>\n",
       "      <td>1689897600000</td>\n",
       "      <td>2023-07-21</td>\n",
       "      <td>1INCHBTC</td>\n",
       "      <td>0.000011</td>\n",
       "      <td>0.000012</td>\n",
       "      <td>0.000011</td>\n",
       "      <td>0.000011</td>\n",
       "      <td>1217603.6</td>\n",
       "      <td>13.674184</td>\n",
       "      <td>3080</td>\n",
       "    </tr>\n",
       "  </tbody>\n",
       "</table>\n",
       "</div>"
      ],
      "text/plain": [
       "            Unix        Date    Symbol      Open      High       Low   \n",
       "0  1690243200000  2023-07-25  1INCHBTC  0.000010  0.000011  0.000010  \\\n",
       "1  1690156800000  2023-07-24  1INCHBTC  0.000011  0.000011  0.000010   \n",
       "2  1690070400000  2023-07-23  1INCHBTC  0.000011  0.000011  0.000011   \n",
       "3  1689984000000  2023-07-22  1INCHBTC  0.000011  0.000011  0.000011   \n",
       "4  1689897600000  2023-07-21  1INCHBTC  0.000011  0.000012  0.000011   \n",
       "\n",
       "      Close  Volume 1INCH  Volume BTC  tradecount  \n",
       "0  0.000010      399437.3    4.161505        1429  \n",
       "1  0.000010     1888337.1   19.609790        4082  \n",
       "2  0.000011      503804.1    5.515540        1344  \n",
       "3  0.000011      771830.4    8.620545        2201  \n",
       "4  0.000011     1217603.6   13.674184        3080  "
      ]
     },
     "execution_count": 4,
     "metadata": {},
     "output_type": "execute_result"
    }
   ],
   "source": [
    "# 1. Load Data\n",
    "df = pd.read_csv('Binance_1INCHBTC_d.csv', skiprows=1)\n",
    "df.head()"
   ]
  },
  {
   "cell_type": "code",
   "execution_count": 5,
   "metadata": {},
   "outputs": [
    {
     "data": {
      "text/plain": [
       "array([1.035e-05, 1.043e-05, 1.088e-05, 1.101e-05, 1.121e-05, 1.101e-05,\n",
       "       1.122e-05, 1.204e-05, 1.336e-05, 1.427e-05])"
      ]
     },
     "execution_count": 5,
     "metadata": {},
     "output_type": "execute_result"
    }
   ],
   "source": [
    "# 1. Load the data \n",
    "close_prices = df['Close'].values\n",
    "close_prices[0:10]"
   ]
  },
  {
   "cell_type": "code",
   "execution_count": 6,
   "metadata": {},
   "outputs": [],
   "source": [
    "# 2. Prepare sequences\n",
    "window_size = 10\n",
    "sequences = [close_prices[i: i + window_size] for i in range(len(close_prices) - window_size + 1)]"
   ]
  },
  {
   "cell_type": "code",
   "execution_count": 7,
   "metadata": {},
   "outputs": [],
   "source": [
    "# 3. Markov Chain using Pyro\n",
    "\n",
    "def markov_model(data):\n",
    "    mu = pyro.sample('mu', dist.Normal(0, 10))\n",
    "    sigma = pyro.sample('sigma', dist.HalfNormal(10))\n",
    "    for i, value in enumerate(data):\n",
    "        pyro.sample(f\"data_{i}\", dist.Normal(mu, sigma), obs=value)\n",
    "\n",
    "def get_mcmc_samples(data, num_samples=1000, warmup_steps=200):\n",
    "    nuts_kernel = NUTS(markov_model)\n",
    "    mcmc = MCMC(nuts_kernel, num_samples=num_samples, warmup_steps=warmup_steps)\n",
    "    mcmc.run(torch.tensor(data))\n",
    "    return mcmc.get_samples()\n",
    "\n",
    "def predict_next_value(data):\n",
    "    samples = get_mcmc_samples(data[:-1])\n",
    "    predicted_mu = samples['mu'].mean().item()\n",
    "    return predicted_mu"
   ]
  },
  {
   "cell_type": "code",
   "execution_count": 8,
   "metadata": {},
   "outputs": [
    {
     "name": "stderr",
     "output_type": "stream",
     "text": [
      "Sample:  59%|█████▉    | 710/1200 [02:03,  3.54it/s, step size=8.39e-04, acc. prob=0.670]"
     ]
    }
   ],
   "source": [
    "# 4. Create training data using MCMC predictions\n",
    "X = [seq[:9] for seq in sequences]\n",
    "y = [predict_next_value(seq) for seq in sequences]"
   ]
  },
  {
   "cell_type": "code",
   "execution_count": null,
   "metadata": {},
   "outputs": [],
   "source": [
    "# 5. Surrogate modeling using Neural Network\n",
    "\n",
    "model = tf.keras.Sequential([\n",
    "    tf.keras.layers.Dense(32, activation='relu', input_shape=(9,)),\n",
    "    tf.keras.layers.Dense(16, activation='relu'),\n",
    "    tf.keras.layers.Dense(1)\n",
    "])\n",
    "\n",
    "model.compile(optimizer='adam', loss='mse')\n",
    "model.fit(np.array(X), np.array(y), epochs=50, batch_size=32)"
   ]
  },
  {
   "cell_type": "code",
   "execution_count": null,
   "metadata": {},
   "outputs": [],
   "source": [
    "# 6. Evaluate the model\n",
    "\n",
    "# Splitting data into train and test\n",
    "split_idx = int(0.8 * len(X))\n",
    "X_train, X_test = X[:split_idx], X[split_idx:]\n",
    "y_train, y_test = y[:split_idx], y[split_idx:]\n",
    "\n",
    "# Make predictions on test set\n",
    "y_pred = model.predict(X_test)\n",
    "\n",
    "# Calculate MSE and MAE\n",
    "mse = tf.keras.losses.MeanSquaredError()\n",
    "mae = tf.keras.losses.MeanAbsoluteError()\n",
    "\n",
    "mse_value = mse(y_test, y_pred).numpy()\n",
    "mae_value = mae(y_test, y_pred).numpy()\n",
    "\n",
    "print(f\"MSE: {mse_value}, MAE: {mae_value}\")"
   ]
  }
 ],
 "metadata": {
  "kernelspec": {
   "display_name": "env-IDS2021",
   "language": "python",
   "name": "python3"
  },
  "language_info": {
   "codemirror_mode": {
    "name": "ipython",
    "version": 3
   },
   "file_extension": ".py",
   "mimetype": "text/x-python",
   "name": "python",
   "nbconvert_exporter": "python",
   "pygments_lexer": "ipython3",
   "version": "3.10.10"
  },
  "orig_nbformat": 4
 },
 "nbformat": 4,
 "nbformat_minor": 2
}
