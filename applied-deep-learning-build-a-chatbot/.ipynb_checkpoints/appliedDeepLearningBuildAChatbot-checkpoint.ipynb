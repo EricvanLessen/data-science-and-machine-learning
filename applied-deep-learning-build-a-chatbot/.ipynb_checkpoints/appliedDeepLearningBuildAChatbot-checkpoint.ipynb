{
 "cells": [
  {
   "cell_type": "markdown",
   "id": "a58fa12c",
   "metadata": {},
   "source": [
    "RNN are called recurrent because they perform the same task for every element of a sequence\n",
    "They loop back to themselves, that's called memory.\n",
    "<br><br>\n",
    "Sigmoid activation eventually leads to vanishing gradient for \"deep\" neural nets. \n",
    "<br><br>\n",
    "They are especially important for the first layers, which are responsible for low-level features.\n",
    "<br><br>\n",
    "ReLu activation wont work for negative values. ReLu would still end up with vanishing gradients.\n",
    "<br><br>\n",
    "Leaky ReLu has a negative derivation for negative values. The zero is not there but small values.\n",
    "<br><br>\n",
    "LSTMs introduce a memory pipeline. They solve the problem. Here for RNN, each Neuron is an LSTM cell. \n"
   ]
  },
  {
   "cell_type": "markdown",
   "id": "abebc3cb",
   "metadata": {},
   "source": [
    "## pyTorch"
   ]
  },
  {
   "cell_type": "code",
   "execution_count": 1,
   "id": "16c54b3b",
   "metadata": {},
   "outputs": [],
   "source": [
    "import torch"
   ]
  },
  {
   "cell_type": "code",
   "execution_count": 2,
   "id": "4401566f",
   "metadata": {},
   "outputs": [
    {
     "name": "stdout",
     "output_type": "stream",
     "text": [
      "tensor([2, 2, 1])\n"
     ]
    }
   ],
   "source": [
    "# 1-D tensor\n",
    "a = torch.tensor([2,2,1])\n",
    "print(a)"
   ]
  },
  {
   "cell_type": "code",
   "execution_count": 3,
   "id": "f5470822",
   "metadata": {},
   "outputs": [
    {
     "name": "stdout",
     "output_type": "stream",
     "text": [
      "tensor([[2, 1, 4],\n",
      "        [3, 5, 4],\n",
      "        [1, 2, 0],\n",
      "        [4, 3, 2]])\n"
     ]
    }
   ],
   "source": [
    "# This is a 2-D \n",
    "b = torch.tensor([[2,1,4],[3,5,4],[1,2,0],[4,3,2]])\n",
    "print(b)"
   ]
  },
  {
   "cell_type": "code",
   "execution_count": 4,
   "id": "841ee282",
   "metadata": {},
   "outputs": [
    {
     "name": "stdout",
     "output_type": "stream",
     "text": [
      "torch.Size([3])\n",
      "torch.Size([4, 3])\n",
      "torch.Size([3])\n",
      "torch.Size([4, 3])\n"
     ]
    }
   ],
   "source": [
    "# The size of a tensor\n",
    "print(a.shape)\n",
    "print(b.shape)\n",
    "print(a.size())\n",
    "print(b.size())"
   ]
  },
  {
   "cell_type": "code",
   "execution_count": 5,
   "id": "7438e15a",
   "metadata": {},
   "outputs": [
    {
     "name": "stdout",
     "output_type": "stream",
     "text": [
      "4\n"
     ]
    }
   ],
   "source": [
    "# Get the height/number of rows of b\n",
    "print(b.shape[0])"
   ]
  },
  {
   "cell_type": "code",
   "execution_count": 9,
   "id": "c8ab28e4",
   "metadata": {},
   "outputs": [
    {
     "name": "stdout",
     "output_type": "stream",
     "text": [
      "tensor([[2., 1., 4.],\n",
      "        [3., 5., 4.],\n",
      "        [1., 2., 0.],\n",
      "        [4., 3., 2.]])\n",
      "torch.float64\n"
     ]
    }
   ],
   "source": [
    "c = torch.FloatTensor([[2,1,4],[3,5,4],[1,2,0],[4,3,2]])\n",
    "# c = torch.tensor([1,2,2], dtype = torch.float)\n",
    "print(c)\n",
    "print(d.dtype)"
   ]
  },
  {
   "cell_type": "code",
   "execution_count": 10,
   "id": "1b81121b",
   "metadata": {},
   "outputs": [
    {
     "name": "stdout",
     "output_type": "stream",
     "text": [
      "tensor([[2., 1., 4.],\n",
      "        [3., 5., 4.],\n",
      "        [1., 2., 0.],\n",
      "        [4., 3., 2.]], dtype=torch.float64)\n",
      "torch.float64\n"
     ]
    }
   ],
   "source": [
    "d = torch.DoubleTensor([[2,1,4],[3,5,4],[1,2,0],[4,3,2]])\n",
    "# c = torch.tensor([1,2,2], dtype = torch.double)\n",
    "print(d)\n",
    "print(d.dtype)"
   ]
  },
  {
   "cell_type": "code",
   "execution_count": 16,
   "id": "d31e1ca0",
   "metadata": {},
   "outputs": [
    {
     "name": "stdout",
     "output_type": "stream",
     "text": [
      "tensor(2.5833)\n",
      "tensor(1.5050)\n"
     ]
    }
   ],
   "source": [
    "print(c.mean())\n",
    "print(c.std())"
   ]
  },
  {
   "cell_type": "code",
   "execution_count": 17,
   "id": "e50edef6",
   "metadata": {},
   "outputs": [
    {
     "name": "stdout",
     "output_type": "stream",
     "text": [
      "tensor(2.5833, dtype=torch.float64)\n",
      "tensor(1.5050, dtype=torch.float64)\n"
     ]
    }
   ],
   "source": [
    "print(d.mean())\n",
    "print(d.std())"
   ]
  },
  {
   "cell_type": "code",
   "execution_count": 21,
   "id": "09abe210",
   "metadata": {},
   "outputs": [
    {
     "name": "stdout",
     "output_type": "stream",
     "text": [
      "tensor([[2],\n",
      "        [1],\n",
      "        [4],\n",
      "        [3],\n",
      "        [5],\n",
      "        [4],\n",
      "        [1],\n",
      "        [2],\n",
      "        [0],\n",
      "        [4],\n",
      "        [3],\n",
      "        [2]])\n",
      "tensor([2, 1, 4, 3, 5, 4, 1, 2, 0, 4, 3, 2])\n",
      "tensor([[2, 1, 4, 3],\n",
      "        [5, 4, 1, 2],\n",
      "        [0, 4, 3, 2]])\n",
      "tensor([[2, 1, 4, 3],\n",
      "        [5, 4, 1, 2],\n",
      "        [0, 4, 3, 2]])\n",
      "tensor([[2],\n",
      "        [1],\n",
      "        [4],\n",
      "        [3],\n",
      "        [5],\n",
      "        [4],\n",
      "        [1],\n",
      "        [2],\n",
      "        [0],\n",
      "        [4],\n",
      "        [3],\n",
      "        [2]])\n",
      "torch.Size([12, 1])\n",
      "\n",
      "\n",
      "tensor([[[-1.4229, -0.5472,  0.5551, -0.7745],\n",
      "         [ 0.5649, -0.2112, -0.0186, -0.6489],\n",
      "         [ 0.6023,  1.0794,  1.0390,  0.0492]],\n",
      "\n",
      "        [[-1.7018,  0.1740,  0.3637, -0.5525],\n",
      "         [ 0.3993, -0.3356,  1.1182,  0.7683],\n",
      "         [-0.6821, -0.0928, -0.9275, -0.4061]]])\n",
      "\n",
      "tensor([[-1.4229, -0.5472,  0.5551, -0.7745,  0.5649, -0.2112, -0.0186, -0.6489,\n",
      "          0.6023,  1.0794,  1.0390,  0.0492],\n",
      "        [-1.7018,  0.1740,  0.3637, -0.5525,  0.3993, -0.3356,  1.1182,  0.7683,\n",
      "         -0.6821, -0.0928, -0.9275, -0.4061]])\n",
      "\n",
      "tensor([[-1.4229, -0.5472,  0.5551, -0.7745,  0.5649, -0.2112, -0.0186, -0.6489,\n",
      "          0.6023,  1.0794,  1.0390,  0.0492],\n",
      "        [-1.7018,  0.1740,  0.3637, -0.5525,  0.3993, -0.3356,  1.1182,  0.7683,\n",
      "         -0.6821, -0.0928, -0.9275, -0.4061]])\n"
     ]
    }
   ],
   "source": [
    "# Reshape b\n",
    "# if one dimension is -1, then its size can be inferred\n",
    "print(b.view(-1, 1))\n",
    "print(b.view(12))\n",
    "print(b.view(-1, 4))\n",
    "print(b.view(3, 4))\n",
    "b = b.view(-1, 1)\n",
    "print(b)\n",
    "print(b.shape)\n",
    "print()\n",
    "three_dim = torch.randn(2, 3, 4)\n",
    "print()\n",
    "print(three_dim)\n",
    "print()\n",
    "print(three_dim.view(2,12))\n",
    "print()\n",
    "print(three_dim.view(2,-1))\n"
   ]
  },
  {
   "cell_type": "code",
   "execution_count": 22,
   "id": "4bdc6402",
   "metadata": {},
   "outputs": [
    {
     "name": "stdout",
     "output_type": "stream",
     "text": [
      "tensor([[-0.3318,  0.6949, -2.2590,  1.4392],\n",
      "        [-1.1904,  2.0205,  1.1305,  0.8545],\n",
      "        [ 1.8425, -1.1368, -0.6636,  0.0100],\n",
      "        [-1.0107, -0.0517, -0.3733, -1.0532]])\n",
      "torch.float32\n"
     ]
    }
   ],
   "source": [
    "# create a matrix with random numbers taken from a normal distribution with mean 0 and variance 1\n",
    "r2 = torch.randn(4,4)\n",
    "print(r2)\n",
    "print(r2.dtype)"
   ]
  },
  {
   "cell_type": "code",
   "execution_count": 23,
   "id": "e45c1fb8",
   "metadata": {},
   "outputs": [
    {
     "name": "stdout",
     "output_type": "stream",
     "text": [
      "tensor([9, 9, 9, 9, 8])\n",
      "torch.int64\n"
     ]
    }
   ],
   "source": [
    "# create an array of 5 random inteeres from values between 6 and 9\n",
    "in_array = torch.randint(6,10,(5,))\n",
    "print(in_array)\n",
    "print(in_array.dtype)"
   ]
  },
  {
   "cell_type": "code",
   "execution_count": 24,
   "id": "6923f77a",
   "metadata": {},
   "outputs": [
    {
     "name": "stdout",
     "output_type": "stream",
     "text": [
      "tensor([[7, 7, 9],\n",
      "        [7, 9, 7],\n",
      "        [6, 7, 8]])\n"
     ]
    }
   ],
   "source": [
    "# create a 2-D array of size 3x3 filled with random integers from values between 6 and 9\n",
    "in_array2 = torch.randint(6,10,(3,3))\n",
    "print(in_array2)"
   ]
  },
  {
   "cell_type": "code",
   "execution_count": 25,
   "id": "110e1c63",
   "metadata": {},
   "outputs": [
    {
     "name": "stdout",
     "output_type": "stream",
     "text": [
      "5\n",
      "9\n"
     ]
    }
   ],
   "source": [
    "# get the number of elements\n",
    "print(torch.numel(in_array))\n",
    "print(torch.numel(in_array2))"
   ]
  },
  {
   "cell_type": "code",
   "execution_count": 27,
   "id": "a093d5f9",
   "metadata": {},
   "outputs": [
    {
     "name": "stdout",
     "output_type": "stream",
     "text": [
      "tensor([[0, 0, 0],\n",
      "        [0, 0, 0],\n",
      "        [0, 0, 0]])\n"
     ]
    }
   ],
   "source": [
    "# construct a 3x3 matrix of zeros and of dtype long:\n",
    "z = torch.zeros(3,3,dtype=torch.long)\n",
    "print(z)"
   ]
  },
  {
   "cell_type": "code",
   "execution_count": 28,
   "id": "80ca85ea",
   "metadata": {},
   "outputs": [
    {
     "name": "stdout",
     "output_type": "stream",
     "text": [
      "tensor([[1., 1., 1.],\n",
      "        [1., 1., 1.],\n",
      "        [1., 1., 1.]])\n",
      "torch.float32\n"
     ]
    }
   ],
   "source": [
    "# construct a 3x3 matrix of ones\n",
    "o = torch.ones(3,3)\n",
    "print(o)\n",
    "print(o.dtype)"
   ]
  },
  {
   "cell_type": "code",
   "execution_count": 29,
   "id": "87dd5946",
   "metadata": {},
   "outputs": [
    {
     "name": "stdout",
     "output_type": "stream",
     "text": [
      "tensor([[ 0.7556,  1.3769, -0.9964, -0.2231],\n",
      "        [-0.0089, -2.0400,  0.5806,  0.6162],\n",
      "        [ 0.6012,  0.3206,  1.5299, -0.1050],\n",
      "        [-1.1038, -1.4611,  0.8085, -0.3447]], dtype=torch.float64)\n"
     ]
    }
   ],
   "source": [
    "r2_like = torch.randn_like(r2, dtype=torch.double)\n",
    "print(r2_like)"
   ]
  },
  {
   "cell_type": "code",
   "execution_count": 31,
   "id": "ba01e98e",
   "metadata": {},
   "outputs": [
    {
     "name": "stdout",
     "output_type": "stream",
     "text": [
      "tensor([[ 0.4238,  2.0718, -3.2554,  1.2161],\n",
      "        [-1.1993, -0.0195,  1.7111,  1.4707],\n",
      "        [ 2.4437, -0.8163,  0.8663, -0.0950],\n",
      "        [-2.1144, -1.5128,  0.4353, -1.3979]], dtype=torch.float64)\n"
     ]
    }
   ],
   "source": [
    "# add two tensors, make sure they are the same size and data type\n",
    "add_result = torch.add(r2_like,r2)\n",
    "print(add_result)"
   ]
  },
  {
   "cell_type": "code",
   "execution_count": 33,
   "id": "84496a83",
   "metadata": {},
   "outputs": [
    {
     "name": "stdout",
     "output_type": "stream",
     "text": [
      "tensor([[ 0.4238,  2.0718, -3.2554,  1.2161],\n",
      "        [-1.1993, -0.0195,  1.7111,  1.4707],\n",
      "        [ 2.4437, -0.8163,  0.8663, -0.0950],\n",
      "        [-2.1144, -1.5128,  0.4353, -1.3979]])\n"
     ]
    }
   ],
   "source": [
    "# in place addition, inplace operation\n",
    "r2.add_(r2_like)\n",
    "print(r2)"
   ]
  },
  {
   "cell_type": "code",
   "execution_count": 34,
   "id": "368fe0aa",
   "metadata": {},
   "outputs": [
    {
     "name": "stdout",
     "output_type": "stream",
     "text": [
      "tensor([ 2.0718, -0.0195, -0.8163, -1.5128])\n",
      "tensor([[ 0.4238,  2.0718],\n",
      "        [-1.1993, -0.0195],\n",
      "        [ 2.4437, -0.8163],\n",
      "        [-2.1144, -1.5128]])\n",
      "tensor([[ 0.4238,  2.0718, -3.2554,  1.2161],\n",
      "        [-1.1993, -0.0195,  1.7111,  1.4707],\n",
      "        [ 2.4437, -0.8163,  0.8663, -0.0950]])\n",
      "tensor(-0.0950)\n",
      "-0.09504543244838715\n",
      "tensor([ 2.4437, -0.8163,  0.8663, -0.0950])\n"
     ]
    }
   ],
   "source": [
    "# matrix slicing\n",
    "print(r2[:,1])\n",
    "print(r2[:,:2])\n",
    "print(r2[:3,:])\n",
    "num_ten = r2[2,3]\n",
    "print(num_ten)\n",
    "print(num_ten.item())\n",
    "print(r2[2,:])"
   ]
  },
  {
   "cell_type": "markdown",
   "id": "92d9170b",
   "metadata": {},
   "source": [
    "## Numpy Bridge"
   ]
  },
  {
   "cell_type": "code",
   "execution_count": 37,
   "id": "65ed0339",
   "metadata": {},
   "outputs": [
    {
     "name": "stdout",
     "output_type": "stream",
     "text": [
      "[1. 1. 1. 1. 1.]\n",
      "tensor([2., 2., 2., 2., 2.])\n",
      "[2. 2. 2. 2. 2.]\n"
     ]
    }
   ],
   "source": [
    "import numpy as np\n",
    "# Converting a torch tensor to a NumPy Array\n",
    "a = torch.ones(5)\n",
    "b = a.numpy()\n",
    "print(b)\n",
    "\n",
    "# See how the numpy array changed its value\n",
    "a.add_(1)\n",
    "print(a)\n",
    "print(b)"
   ]
  },
  {
   "cell_type": "code",
   "execution_count": 38,
   "id": "19bfc9ea",
   "metadata": {},
   "outputs": [
    {
     "name": "stdout",
     "output_type": "stream",
     "text": [
      "[2. 2. 2. 2. 2.]\n",
      "tensor([2., 2., 2., 2., 2.], dtype=torch.float64)\n"
     ]
    }
   ],
   "source": [
    "# convert numpy array to torch tensor\n",
    "a = np.ones(5)\n",
    "b = torch.from_numpy(a)\n",
    "np.add(a, 1, out=a)\n",
    "print(a)\n",
    "print(b)"
   ]
  },
  {
   "cell_type": "code",
   "execution_count": 39,
   "id": "33e3e2b8",
   "metadata": {},
   "outputs": [
    {
     "ename": "AssertionError",
     "evalue": "Torch not compiled with CUDA enabled",
     "output_type": "error",
     "traceback": [
      "\u001b[0;31m---------------------------------------------------------------------------\u001b[0m",
      "\u001b[0;31mAssertionError\u001b[0m                            Traceback (most recent call last)",
      "\u001b[0;32m/tmp/ipykernel_17260/1064372973.py\u001b[0m in \u001b[0;36m<module>\u001b[0;34m\u001b[0m\n\u001b[1;32m      1\u001b[0m \u001b[0;31m# move the tensor to the GPU\u001b[0m\u001b[0;34m\u001b[0m\u001b[0;34m\u001b[0m\u001b[0;34m\u001b[0m\u001b[0m\n\u001b[0;32m----> 2\u001b[0;31m \u001b[0mr2\u001b[0m \u001b[0;34m=\u001b[0m \u001b[0mr2\u001b[0m\u001b[0;34m.\u001b[0m\u001b[0mcuda\u001b[0m\u001b[0;34m(\u001b[0m\u001b[0;34m)\u001b[0m\u001b[0;34m\u001b[0m\u001b[0;34m\u001b[0m\u001b[0m\n\u001b[0m",
      "\u001b[0;32m~/anaconda3/lib/python3.7/site-packages/torch/cuda/__init__.py\u001b[0m in \u001b[0;36m_lazy_init\u001b[0;34m()\u001b[0m\n\u001b[1;32m    164\u001b[0m                 \"Cannot re-initialize CUDA in forked subprocess. \" + msg)\n\u001b[1;32m    165\u001b[0m         \u001b[0;32mif\u001b[0m \u001b[0;32mnot\u001b[0m \u001b[0mhasattr\u001b[0m\u001b[0;34m(\u001b[0m\u001b[0mtorch\u001b[0m\u001b[0;34m.\u001b[0m\u001b[0m_C\u001b[0m\u001b[0;34m,\u001b[0m \u001b[0;34m'_cuda_getDeviceCount'\u001b[0m\u001b[0;34m)\u001b[0m\u001b[0;34m:\u001b[0m\u001b[0;34m\u001b[0m\u001b[0;34m\u001b[0m\u001b[0m\n\u001b[0;32m--> 166\u001b[0;31m             \u001b[0;32mraise\u001b[0m \u001b[0mAssertionError\u001b[0m\u001b[0;34m(\u001b[0m\u001b[0;34m\"Torch not compiled with CUDA enabled\"\u001b[0m\u001b[0;34m)\u001b[0m\u001b[0;34m\u001b[0m\u001b[0;34m\u001b[0m\u001b[0m\n\u001b[0m\u001b[1;32m    167\u001b[0m         \u001b[0;32mif\u001b[0m \u001b[0m_cudart\u001b[0m \u001b[0;32mis\u001b[0m \u001b[0;32mNone\u001b[0m\u001b[0;34m:\u001b[0m\u001b[0;34m\u001b[0m\u001b[0;34m\u001b[0m\u001b[0m\n\u001b[1;32m    168\u001b[0m             raise AssertionError(\n",
      "\u001b[0;31mAssertionError\u001b[0m: Torch not compiled with CUDA enabled"
     ]
    }
   ],
   "source": [
    "# move the tensor to the GPU\n",
    "r2 = r2.cuda()"
   ]
  },
  {
   "cell_type": "code",
   "execution_count": null,
   "id": "57106cef",
   "metadata": {},
   "outputs": [],
   "source": []
  }
 ],
 "metadata": {
  "kernelspec": {
   "display_name": "Python 3 (ipykernel)",
   "language": "python",
   "name": "python3"
  },
  "language_info": {
   "codemirror_mode": {
    "name": "ipython",
    "version": 3
   },
   "file_extension": ".py",
   "mimetype": "text/x-python",
   "name": "python",
   "nbconvert_exporter": "python",
   "pygments_lexer": "ipython3",
   "version": "3.7.11"
  }
 },
 "nbformat": 4,
 "nbformat_minor": 5
}
