{
  "cells": [
    {
      "cell_type": "markdown",
      "id": "a58fa12c",
      "metadata": {
        "id": "a58fa12c"
      },
      "source": [
        "RNN are called recurrent because they perform the same task for every element of a sequence\n",
        "They loop back to themselves, that's called memory.\n",
        "<br><br>\n",
        "Sigmoid activation eventually leads to vanishing gradient for \"deep\" neural nets. \n",
        "<br><br>\n",
        "They are especially important for the first layers, which are responsible for low-level features.\n",
        "<br><br>\n",
        "ReLu activation wont work for negative values. ReLu would still end up with vanishing gradients.\n",
        "<br><br>\n",
        "Leaky ReLu has a negative derivation for negative values. The zero is not there but small values.\n",
        "<br><br>\n",
        "LSTMs introduce a memory pipeline. They solve the problem. Here for RNN, each Neuron is an LSTM cell. \n"
      ]
    },
    {
      "cell_type": "markdown",
      "id": "abebc3cb",
      "metadata": {
        "id": "abebc3cb"
      },
      "source": [
        "## 1.1 pyTorch"
      ]
    },
    {
      "cell_type": "code",
      "execution_count": 5,
      "id": "16c54b3b",
      "metadata": {
        "id": "16c54b3b"
      },
      "outputs": [],
      "source": [
        "import torch"
      ]
    },
    {
      "cell_type": "code",
      "execution_count": 6,
      "id": "4401566f",
      "metadata": {
        "id": "4401566f",
        "outputId": "b5973814-5fd0-4aa1-9d5d-0e0c497c22cd",
        "colab": {
          "base_uri": "https://localhost:8080/"
        }
      },
      "outputs": [
        {
          "output_type": "stream",
          "name": "stdout",
          "text": [
            "tensor([2, 2, 1])\n"
          ]
        }
      ],
      "source": [
        "# 1-D tensor\n",
        "a = torch.tensor([2,2,1])\n",
        "print(a)"
      ]
    },
    {
      "cell_type": "code",
      "execution_count": 7,
      "id": "f5470822",
      "metadata": {
        "id": "f5470822",
        "outputId": "9e04a606-c055-4156-a132-963654c9e856",
        "colab": {
          "base_uri": "https://localhost:8080/"
        }
      },
      "outputs": [
        {
          "output_type": "stream",
          "name": "stdout",
          "text": [
            "tensor([[2, 1, 4],\n",
            "        [3, 5, 4],\n",
            "        [1, 2, 0],\n",
            "        [4, 3, 2]])\n"
          ]
        }
      ],
      "source": [
        "# This is a 2-D \n",
        "b = torch.tensor([[2,1,4],[3,5,4],[1,2,0],[4,3,2]])\n",
        "print(b)"
      ]
    },
    {
      "cell_type": "code",
      "execution_count": 8,
      "id": "841ee282",
      "metadata": {
        "id": "841ee282",
        "outputId": "58822595-9d20-4c9b-983e-8540546391ed",
        "colab": {
          "base_uri": "https://localhost:8080/"
        }
      },
      "outputs": [
        {
          "output_type": "stream",
          "name": "stdout",
          "text": [
            "torch.Size([3])\n",
            "torch.Size([4, 3])\n",
            "torch.Size([3])\n",
            "torch.Size([4, 3])\n"
          ]
        }
      ],
      "source": [
        "# The size of a tensor\n",
        "print(a.shape)\n",
        "print(b.shape)\n",
        "print(a.size())\n",
        "print(b.size())"
      ]
    },
    {
      "cell_type": "code",
      "execution_count": 9,
      "id": "7438e15a",
      "metadata": {
        "id": "7438e15a",
        "outputId": "66c7b5dc-ee08-4401-aa97-1aa3aeb89d38",
        "colab": {
          "base_uri": "https://localhost:8080/"
        }
      },
      "outputs": [
        {
          "output_type": "stream",
          "name": "stdout",
          "text": [
            "4\n"
          ]
        }
      ],
      "source": [
        "# Get the height/number of rows of b\n",
        "print(b.shape[0])"
      ]
    },
    {
      "cell_type": "code",
      "execution_count": 11,
      "id": "c8ab28e4",
      "metadata": {
        "id": "c8ab28e4",
        "outputId": "d3b41f9d-0b21-483a-85aa-e928b7b4a7bf",
        "colab": {
          "base_uri": "https://localhost:8080/"
        }
      },
      "outputs": [
        {
          "output_type": "stream",
          "name": "stdout",
          "text": [
            "tensor([[2., 1., 4.],\n",
            "        [3., 5., 4.],\n",
            "        [1., 2., 0.],\n",
            "        [4., 3., 2.]])\n",
            "torch.float32\n"
          ]
        }
      ],
      "source": [
        "c = torch.FloatTensor([[2,1,4],[3,5,4],[1,2,0],[4,3,2]])\n",
        "# c = torch.tensor([1,2,2], dtype = torch.float)\n",
        "print(c)\n",
        "print(c.dtype)"
      ]
    },
    {
      "cell_type": "code",
      "execution_count": 13,
      "id": "1b81121b",
      "metadata": {
        "id": "1b81121b",
        "outputId": "28e559ec-4941-4504-d5fe-92baf7029c5a",
        "colab": {
          "base_uri": "https://localhost:8080/"
        }
      },
      "outputs": [
        {
          "output_type": "stream",
          "name": "stdout",
          "text": [
            "tensor([[2., 1., 4.],\n",
            "        [3., 5., 4.],\n",
            "        [1., 2., 0.],\n",
            "        [4., 3., 2.]], dtype=torch.float64)\n",
            "torch.float64\n"
          ]
        }
      ],
      "source": [
        "d = torch.DoubleTensor([[2,1,4],[3,5,4],[1,2,0],[4,3,2]])\n",
        "# c = torch.tensor([1,2,2], dtype = torch.double)\n",
        "print(d)\n",
        "print(d.dtype)"
      ]
    },
    {
      "cell_type": "code",
      "execution_count": 14,
      "id": "d31e1ca0",
      "metadata": {
        "id": "d31e1ca0",
        "outputId": "e021f6de-91fb-4aa7-c0ab-59dd35c6a43e",
        "colab": {
          "base_uri": "https://localhost:8080/"
        }
      },
      "outputs": [
        {
          "output_type": "stream",
          "name": "stdout",
          "text": [
            "tensor(2.5833)\n",
            "tensor(1.5050)\n"
          ]
        }
      ],
      "source": [
        "print(c.mean())\n",
        "print(c.std())"
      ]
    },
    {
      "cell_type": "code",
      "execution_count": 15,
      "id": "e50edef6",
      "metadata": {
        "id": "e50edef6",
        "outputId": "652fbab3-c40a-4eff-d4d1-c2c3939f17d9",
        "colab": {
          "base_uri": "https://localhost:8080/"
        }
      },
      "outputs": [
        {
          "output_type": "stream",
          "name": "stdout",
          "text": [
            "tensor(2.5833, dtype=torch.float64)\n",
            "tensor(1.5050, dtype=torch.float64)\n"
          ]
        }
      ],
      "source": [
        "print(d.mean())\n",
        "print(d.std())"
      ]
    },
    {
      "cell_type": "code",
      "execution_count": 16,
      "id": "09abe210",
      "metadata": {
        "id": "09abe210",
        "outputId": "d2fe63da-7fb4-4295-cc14-edb97ac04a46",
        "colab": {
          "base_uri": "https://localhost:8080/"
        }
      },
      "outputs": [
        {
          "output_type": "stream",
          "name": "stdout",
          "text": [
            "tensor([[2],\n",
            "        [1],\n",
            "        [4],\n",
            "        [3],\n",
            "        [5],\n",
            "        [4],\n",
            "        [1],\n",
            "        [2],\n",
            "        [0],\n",
            "        [4],\n",
            "        [3],\n",
            "        [2]])\n",
            "tensor([2, 1, 4, 3, 5, 4, 1, 2, 0, 4, 3, 2])\n",
            "tensor([[2, 1, 4, 3],\n",
            "        [5, 4, 1, 2],\n",
            "        [0, 4, 3, 2]])\n",
            "tensor([[2, 1, 4, 3],\n",
            "        [5, 4, 1, 2],\n",
            "        [0, 4, 3, 2]])\n",
            "tensor([[2],\n",
            "        [1],\n",
            "        [4],\n",
            "        [3],\n",
            "        [5],\n",
            "        [4],\n",
            "        [1],\n",
            "        [2],\n",
            "        [0],\n",
            "        [4],\n",
            "        [3],\n",
            "        [2]])\n",
            "torch.Size([12, 1])\n",
            "\n",
            "\n",
            "tensor([[[ 0.8538, -0.2597,  0.0159,  1.4274],\n",
            "         [-1.3282, -1.0005, -0.4853, -0.2711],\n",
            "         [-0.3444, -0.8514,  1.0216, -0.9478]],\n",
            "\n",
            "        [[-1.0367,  1.0860, -1.2259,  0.1648],\n",
            "         [-0.5372,  2.2747, -1.9950, -0.8284],\n",
            "         [-0.7662,  0.1258, -1.0321,  0.2282]]])\n",
            "\n",
            "tensor([[ 0.8538, -0.2597,  0.0159,  1.4274, -1.3282, -1.0005, -0.4853, -0.2711,\n",
            "         -0.3444, -0.8514,  1.0216, -0.9478],\n",
            "        [-1.0367,  1.0860, -1.2259,  0.1648, -0.5372,  2.2747, -1.9950, -0.8284,\n",
            "         -0.7662,  0.1258, -1.0321,  0.2282]])\n",
            "\n",
            "tensor([[ 0.8538, -0.2597,  0.0159,  1.4274, -1.3282, -1.0005, -0.4853, -0.2711,\n",
            "         -0.3444, -0.8514,  1.0216, -0.9478],\n",
            "        [-1.0367,  1.0860, -1.2259,  0.1648, -0.5372,  2.2747, -1.9950, -0.8284,\n",
            "         -0.7662,  0.1258, -1.0321,  0.2282]])\n"
          ]
        }
      ],
      "source": [
        "# Reshape b\n",
        "# if one dimension is -1, then its size can be inferred\n",
        "print(b.view(-1, 1))\n",
        "print(b.view(12))\n",
        "print(b.view(-1, 4))\n",
        "print(b.view(3, 4))\n",
        "b = b.view(-1, 1)\n",
        "print(b)\n",
        "print(b.shape)\n",
        "print()\n",
        "three_dim = torch.randn(2, 3, 4)\n",
        "print()\n",
        "print(three_dim)\n",
        "print()\n",
        "print(three_dim.view(2,12))\n",
        "print()\n",
        "print(three_dim.view(2,-1))\n"
      ]
    },
    {
      "cell_type": "code",
      "execution_count": 17,
      "id": "4bdc6402",
      "metadata": {
        "id": "4bdc6402",
        "outputId": "1ef01651-5ee0-45d0-8757-2e7502a7dde0",
        "colab": {
          "base_uri": "https://localhost:8080/"
        }
      },
      "outputs": [
        {
          "output_type": "stream",
          "name": "stdout",
          "text": [
            "tensor([[-1.4975,  0.2695, -0.5568,  0.2244],\n",
            "        [ 1.6342, -1.1052,  0.6579,  0.3636],\n",
            "        [ 1.9898,  1.4924,  1.0597,  1.1917],\n",
            "        [ 1.5996,  0.2890,  0.4679, -1.1772]])\n",
            "torch.float32\n"
          ]
        }
      ],
      "source": [
        "# create a matrix with random numbers taken from a normal distribution with mean 0 and variance 1\n",
        "r2 = torch.randn(4,4)\n",
        "print(r2)\n",
        "print(r2.dtype)"
      ]
    },
    {
      "cell_type": "code",
      "execution_count": 18,
      "id": "e45c1fb8",
      "metadata": {
        "id": "e45c1fb8",
        "outputId": "af987f2b-00cb-47d0-e81f-f6fab817c4ce",
        "colab": {
          "base_uri": "https://localhost:8080/"
        }
      },
      "outputs": [
        {
          "output_type": "stream",
          "name": "stdout",
          "text": [
            "tensor([8, 6, 8, 9, 9])\n",
            "torch.int64\n"
          ]
        }
      ],
      "source": [
        "# create an array of 5 random inteeres from values between 6 and 9\n",
        "in_array = torch.randint(6,10,(5,))\n",
        "print(in_array)\n",
        "print(in_array.dtype)"
      ]
    },
    {
      "cell_type": "code",
      "execution_count": 19,
      "id": "6923f77a",
      "metadata": {
        "id": "6923f77a",
        "outputId": "b7cb4fbf-43d9-4941-bddb-b2fc573a359c",
        "colab": {
          "base_uri": "https://localhost:8080/"
        }
      },
      "outputs": [
        {
          "output_type": "stream",
          "name": "stdout",
          "text": [
            "tensor([[8, 8, 7],\n",
            "        [7, 7, 9],\n",
            "        [6, 8, 9]])\n"
          ]
        }
      ],
      "source": [
        "# create a 2-D array of size 3x3 filled with random integers from values between 6 and 9\n",
        "in_array2 = torch.randint(6,10,(3,3))\n",
        "print(in_array2)"
      ]
    },
    {
      "cell_type": "code",
      "execution_count": 20,
      "id": "110e1c63",
      "metadata": {
        "id": "110e1c63",
        "outputId": "e3c2c08e-8a3f-422c-e35f-54b3f5a7cf38",
        "colab": {
          "base_uri": "https://localhost:8080/"
        }
      },
      "outputs": [
        {
          "output_type": "stream",
          "name": "stdout",
          "text": [
            "5\n",
            "9\n"
          ]
        }
      ],
      "source": [
        "# get the number of elements\n",
        "print(torch.numel(in_array))\n",
        "print(torch.numel(in_array2))"
      ]
    },
    {
      "cell_type": "code",
      "execution_count": 21,
      "id": "a093d5f9",
      "metadata": {
        "id": "a093d5f9",
        "outputId": "fbe33792-3c09-4da2-a4a5-7064d63617df",
        "colab": {
          "base_uri": "https://localhost:8080/"
        }
      },
      "outputs": [
        {
          "output_type": "stream",
          "name": "stdout",
          "text": [
            "tensor([[0, 0, 0],\n",
            "        [0, 0, 0],\n",
            "        [0, 0, 0]])\n"
          ]
        }
      ],
      "source": [
        "# construct a 3x3 matrix of zeros and of dtype long:\n",
        "z = torch.zeros(3,3,dtype=torch.long)\n",
        "print(z)"
      ]
    },
    {
      "cell_type": "code",
      "execution_count": 22,
      "id": "80ca85ea",
      "metadata": {
        "id": "80ca85ea",
        "outputId": "b454bbbf-0645-4ac4-9a39-f7be28cb2a27",
        "colab": {
          "base_uri": "https://localhost:8080/"
        }
      },
      "outputs": [
        {
          "output_type": "stream",
          "name": "stdout",
          "text": [
            "tensor([[1., 1., 1.],\n",
            "        [1., 1., 1.],\n",
            "        [1., 1., 1.]])\n",
            "torch.float32\n"
          ]
        }
      ],
      "source": [
        "# construct a 3x3 matrix of ones\n",
        "o = torch.ones(3,3)\n",
        "print(o)\n",
        "print(o.dtype)"
      ]
    },
    {
      "cell_type": "code",
      "execution_count": 23,
      "id": "87dd5946",
      "metadata": {
        "id": "87dd5946",
        "outputId": "ca8f9bde-c08f-40c7-b4af-9cf6b6fbc9fb",
        "colab": {
          "base_uri": "https://localhost:8080/"
        }
      },
      "outputs": [
        {
          "output_type": "stream",
          "name": "stdout",
          "text": [
            "tensor([[-0.4341, -0.3260, -0.2074,  0.4636],\n",
            "        [ 1.1431,  0.4302, -1.0535, -0.4648],\n",
            "        [-0.1443,  0.2746,  0.0434,  1.7762],\n",
            "        [ 0.6262, -0.6480,  1.0322,  1.0110]], dtype=torch.float64)\n"
          ]
        }
      ],
      "source": [
        "r2_like = torch.randn_like(r2, dtype=torch.double)\n",
        "print(r2_like)"
      ]
    },
    {
      "cell_type": "code",
      "execution_count": 24,
      "id": "ba01e98e",
      "metadata": {
        "id": "ba01e98e",
        "outputId": "78d83a61-835b-45fd-9e0a-6308dff22b13",
        "colab": {
          "base_uri": "https://localhost:8080/"
        }
      },
      "outputs": [
        {
          "output_type": "stream",
          "name": "stdout",
          "text": [
            "tensor([[-1.9315, -0.0565, -0.7643,  0.6880],\n",
            "        [ 2.7772, -0.6750, -0.3956, -0.1012],\n",
            "        [ 1.8455,  1.7670,  1.1031,  2.9679],\n",
            "        [ 2.2258, -0.3589,  1.5001, -0.1662]], dtype=torch.float64)\n"
          ]
        }
      ],
      "source": [
        "# add two tensors, make sure they are the same size and data type\n",
        "add_result = torch.add(r2_like,r2)\n",
        "print(add_result)"
      ]
    },
    {
      "cell_type": "code",
      "execution_count": 25,
      "id": "84496a83",
      "metadata": {
        "id": "84496a83",
        "outputId": "3f18121d-94f9-416d-bab4-8081c33a8bbc",
        "colab": {
          "base_uri": "https://localhost:8080/"
        }
      },
      "outputs": [
        {
          "output_type": "stream",
          "name": "stdout",
          "text": [
            "tensor([[-1.9315, -0.0565, -0.7643,  0.6880],\n",
            "        [ 2.7772, -0.6750, -0.3956, -0.1012],\n",
            "        [ 1.8455,  1.7670,  1.1031,  2.9679],\n",
            "        [ 2.2258, -0.3589,  1.5001, -0.1662]])\n"
          ]
        }
      ],
      "source": [
        "# in place addition, inplace operation\n",
        "r2.add_(r2_like)\n",
        "print(r2)"
      ]
    },
    {
      "cell_type": "code",
      "execution_count": 26,
      "id": "368fe0aa",
      "metadata": {
        "id": "368fe0aa",
        "outputId": "05846893-5b68-4e67-beb8-7900476083a1",
        "colab": {
          "base_uri": "https://localhost:8080/"
        }
      },
      "outputs": [
        {
          "output_type": "stream",
          "name": "stdout",
          "text": [
            "tensor([-0.0565, -0.6750,  1.7670, -0.3589])\n",
            "tensor([[-1.9315, -0.0565],\n",
            "        [ 2.7772, -0.6750],\n",
            "        [ 1.8455,  1.7670],\n",
            "        [ 2.2258, -0.3589]])\n",
            "tensor([[-1.9315, -0.0565, -0.7643,  0.6880],\n",
            "        [ 2.7772, -0.6750, -0.3956, -0.1012],\n",
            "        [ 1.8455,  1.7670,  1.1031,  2.9679]])\n",
            "tensor(2.9679)\n",
            "2.9679362773895264\n",
            "tensor([1.8455, 1.7670, 1.1031, 2.9679])\n"
          ]
        }
      ],
      "source": [
        "# matrix slicing\n",
        "print(r2[:,1])\n",
        "print(r2[:,:2])\n",
        "print(r2[:3,:])\n",
        "num_ten = r2[2,3]\n",
        "print(num_ten)\n",
        "print(num_ten.item())\n",
        "print(r2[2,:])"
      ]
    },
    {
      "cell_type": "markdown",
      "id": "92d9170b",
      "metadata": {
        "id": "92d9170b"
      },
      "source": [
        "## 1.2 Numpy Bridge"
      ]
    },
    {
      "cell_type": "code",
      "execution_count": 27,
      "id": "65ed0339",
      "metadata": {
        "id": "65ed0339",
        "outputId": "9ffff26d-db4f-45a0-a2a2-5c8578d07bba",
        "colab": {
          "base_uri": "https://localhost:8080/"
        }
      },
      "outputs": [
        {
          "output_type": "stream",
          "name": "stdout",
          "text": [
            "[1. 1. 1. 1. 1.]\n",
            "tensor([2., 2., 2., 2., 2.])\n",
            "[2. 2. 2. 2. 2.]\n"
          ]
        }
      ],
      "source": [
        "import numpy as np\n",
        "# Converting a torch tensor to a NumPy Array\n",
        "a = torch.ones(5)\n",
        "b = a.numpy()\n",
        "print(b)\n",
        "\n",
        "# See how the numpy array changed its value\n",
        "a.add_(1)\n",
        "print(a)\n",
        "print(b)"
      ]
    },
    {
      "cell_type": "code",
      "execution_count": 28,
      "id": "19bfc9ea",
      "metadata": {
        "id": "19bfc9ea",
        "outputId": "35712d47-53d3-48ae-c627-cc10cf7c7bd7",
        "colab": {
          "base_uri": "https://localhost:8080/"
        }
      },
      "outputs": [
        {
          "output_type": "stream",
          "name": "stdout",
          "text": [
            "[2. 2. 2. 2. 2.]\n",
            "tensor([2., 2., 2., 2., 2.], dtype=torch.float64)\n"
          ]
        }
      ],
      "source": [
        "# convert numpy array to torch tensor\n",
        "a = np.ones(5)\n",
        "b = torch.from_numpy(a)\n",
        "np.add(a, 1, out=a)\n",
        "print(a)\n",
        "print(b)"
      ]
    },
    {
      "cell_type": "code",
      "execution_count": 30,
      "id": "33e3e2b8",
      "metadata": {
        "id": "33e3e2b8",
        "outputId": "4617253e-99f6-419d-d11b-0fab22b10e99",
        "colab": {
          "base_uri": "https://localhost:8080/"
        }
      },
      "outputs": [
        {
          "output_type": "stream",
          "name": "stdout",
          "text": [
            "tensor([[-1.9315, -0.0565, -0.7643,  0.6880],\n",
            "        [ 2.7772, -0.6750, -0.3956, -0.1012],\n",
            "        [ 1.8455,  1.7670,  1.1031,  2.9679],\n",
            "        [ 2.2258, -0.3589,  1.5001, -0.1662]], device='cuda:0')\n"
          ]
        }
      ],
      "source": [
        "# move the tensor to the GPU\n",
        "r2 = r2.cuda()\n",
        "print(r2)"
      ]
    },
    {
      "cell_type": "code",
      "source": [
        "CUDA = torch.cuda.is_available()\n",
        "print(CUDA)\n",
        "if CUDA:\n",
        "  add_result = add_result.cuda()\n",
        "  print(add_result)"
      ],
      "metadata": {
        "id": "wwlJkzuIzVuB",
        "outputId": "66645d9d-7bc6-4529-8cbc-c8b3c4ff7a80",
        "colab": {
          "base_uri": "https://localhost:8080/"
        }
      },
      "id": "wwlJkzuIzVuB",
      "execution_count": 33,
      "outputs": [
        {
          "output_type": "stream",
          "name": "stdout",
          "text": [
            "True\n",
            "tensor([[-1.9315, -0.0565, -0.7643,  0.6880],\n",
            "        [ 2.7772, -0.6750, -0.3956, -0.1012],\n",
            "        [ 1.8455,  1.7670,  1.1031,  2.9679],\n",
            "        [ 2.2258, -0.3589,  1.5001, -0.1662]], device='cuda:0',\n",
            "       dtype=torch.float64)\n"
          ]
        }
      ]
    },
    {
      "cell_type": "code",
      "source": [
        "# convert a list to a tensor\n",
        "a = [2,3,4,1]\n",
        "print(a)\n",
        "to_list = torch.tensor(a)\n",
        "print(to_list, to_list.dtype)"
      ],
      "metadata": {
        "id": "4hAW9henzV7e",
        "outputId": "540113ef-d157-4b13-c7ec-0d1a8d38e94e",
        "colab": {
          "base_uri": "https://localhost:8080/"
        }
      },
      "id": "4hAW9henzV7e",
      "execution_count": 34,
      "outputs": [
        {
          "output_type": "stream",
          "name": "stdout",
          "text": [
            "[2, 3, 4, 1]\n",
            "tensor([2, 3, 4, 1]) torch.int64\n"
          ]
        }
      ]
    },
    {
      "cell_type": "code",
      "source": [
        "data = [[1.,2.],[3.,4.],[5.,6.],[7.,8.]]\n",
        "T = torch.tensor(data)\n",
        "print(T, T.dtype)"
      ],
      "metadata": {
        "id": "2ItQJAJEzWBG",
        "outputId": "b1492461-2221-4fec-f615-34e8a839d89b",
        "colab": {
          "base_uri": "https://localhost:8080/"
        }
      },
      "id": "2ItQJAJEzWBG",
      "execution_count": 35,
      "outputs": [
        {
          "output_type": "stream",
          "name": "stdout",
          "text": [
            "tensor([[1., 2.],\n",
            "        [3., 4.],\n",
            "        [5., 6.],\n",
            "        [7., 8.]]) torch.float32\n"
          ]
        }
      ]
    },
    {
      "cell_type": "markdown",
      "source": [
        "## 1.3 Tensor Concatenation"
      ],
      "metadata": {
        "id": "T2x-Uh0Q0Hl_"
      },
      "id": "T2x-Uh0Q0Hl_"
    },
    {
      "cell_type": "code",
      "source": [
        "first_1 = torch.randn(2, 5)\n",
        "print(first_1)\n",
        "second_1 = torch.randn(3, 5)\n",
        "print(second_1)\n",
        "con_1 = torch.cat([first_1, second_1])\n",
        "print()\n",
        "print(con_1)\n",
        "print()\n",
        "first_2 = torch.randn(2, 3)\n",
        "second_2 = torch.randn(2, 5)\n",
        "print(first_2)\n",
        "print(second_2)\n",
        "con_2 = torch.cat([first_2, second_2], 1)\n",
        "print(con_2)"
      ],
      "metadata": {
        "id": "lfK4bggYzWFH",
        "outputId": "2d0df88d-365d-45da-cacd-0b1e6619ab16",
        "colab": {
          "base_uri": "https://localhost:8080/"
        }
      },
      "id": "lfK4bggYzWFH",
      "execution_count": 39,
      "outputs": [
        {
          "output_type": "stream",
          "name": "stdout",
          "text": [
            "tensor([[ 2.2402,  0.8759,  1.3507,  0.8450, -0.3049],\n",
            "        [ 1.4476, -0.3003,  1.4400, -1.3726, -0.4726]])\n",
            "tensor([[ 0.0506,  0.2773,  0.3559,  0.1605, -2.0348],\n",
            "        [ 0.6059, -0.8921,  1.5359,  1.4607,  0.2283],\n",
            "        [-0.9125,  0.4059, -0.8976,  0.0282, -1.4525]])\n",
            "\n",
            "tensor([[ 2.2402,  0.8759,  1.3507,  0.8450, -0.3049],\n",
            "        [ 1.4476, -0.3003,  1.4400, -1.3726, -0.4726],\n",
            "        [ 0.0506,  0.2773,  0.3559,  0.1605, -2.0348],\n",
            "        [ 0.6059, -0.8921,  1.5359,  1.4607,  0.2283],\n",
            "        [-0.9125,  0.4059, -0.8976,  0.0282, -1.4525]])\n",
            "\n",
            "tensor([[-0.2715,  1.0697,  0.0429],\n",
            "        [ 1.4988,  0.9676,  0.0797]])\n",
            "tensor([[ 1.4400, -0.1160,  0.4265, -0.1904,  1.1431],\n",
            "        [ 1.5995, -0.5282, -2.9326, -0.0514,  0.4548]])\n",
            "tensor([[-0.2715,  1.0697,  0.0429,  1.4400, -0.1160,  0.4265, -0.1904,  1.1431],\n",
            "        [ 1.4988,  0.9676,  0.0797,  1.5995, -0.5282, -2.9326, -0.0514,  0.4548]])\n"
          ]
        }
      ]
    },
    {
      "cell_type": "markdown",
      "source": [
        "## Adding dimensions to tensor"
      ],
      "metadata": {
        "id": "dsJUoadf1Zuv"
      },
      "id": "dsJUoadf1Zuv"
    },
    {
      "cell_type": "code",
      "source": [
        "tensor_1 = torch.tensor([1,2,3,4])\n",
        "print(tensor_1)\n",
        "tensor_a = torch.unsqueeze(tensor_1, 0)\n",
        "print(tensor_a)\n",
        "print(tensor_a.shape)\n",
        "tensor_b = torch.unsqueeze(tensor_1, 1)\n",
        "print(tensor_b)\n",
        "print(tensor_b.shape)\n",
        "print()\n",
        "tensor_2 = torch.rand(2,3,4)\n",
        "print(tensor_2)\n",
        "print()\n",
        "tensor_c = tensor_2[:,:,2]\n",
        "print(tensor_c)\n",
        "print(tensor_c.shape)\n",
        "print()\n",
        "tensor_d = torch.unsqueeze(tensor_c, 2)\n",
        "print(tensor_d)\n",
        "print(tensor_d.shape)"
      ],
      "metadata": {
        "id": "o0liCdYqzWIP",
        "outputId": "6ef8c082-8d0b-4212-8ead-e941785f11b1",
        "colab": {
          "base_uri": "https://localhost:8080/"
        }
      },
      "id": "o0liCdYqzWIP",
      "execution_count": 42,
      "outputs": [
        {
          "output_type": "stream",
          "name": "stdout",
          "text": [
            "tensor([1, 2, 3, 4])\n",
            "tensor([[1, 2, 3, 4]])\n",
            "torch.Size([1, 4])\n",
            "tensor([[1],\n",
            "        [2],\n",
            "        [3],\n",
            "        [4]])\n",
            "torch.Size([4, 1])\n",
            "\n",
            "tensor([[[0.1988, 0.1399, 0.2080, 0.5870],\n",
            "         [0.1610, 0.9549, 0.8313, 0.7732],\n",
            "         [0.0596, 0.3250, 0.1525, 0.4258]],\n",
            "\n",
            "        [[0.7866, 0.7981, 0.6695, 0.3462],\n",
            "         [0.3172, 0.0087, 0.7764, 0.1006],\n",
            "         [0.1157, 0.4734, 0.7649, 0.6908]]])\n",
            "\n",
            "tensor([[0.2080, 0.8313, 0.1525],\n",
            "        [0.6695, 0.7764, 0.7649]])\n",
            "torch.Size([2, 3])\n",
            "\n",
            "tensor([[[0.2080],\n",
            "         [0.8313],\n",
            "         [0.1525]],\n",
            "\n",
            "        [[0.6695],\n",
            "         [0.7764],\n",
            "         [0.7649]]])\n",
            "torch.Size([2, 3, 1])\n"
          ]
        }
      ]
    },
    {
      "cell_type": "markdown",
      "source": [
        "## 2.1 Building a Chatbot\n",
        "Code adopted from https://pytorch.org/tutorials/beginner7chatbot_tutorial.html"
      ],
      "metadata": {
        "id": "Hy9WUdj_3oZP"
      },
      "id": "Hy9WUdj_3oZP"
    },
    {
      "cell_type": "code",
      "source": [
        "import torch\n",
        "import torch.nn as nn\n",
        "from torch import optim\n",
        "import torch.nn.functional as F\n",
        "import csv\n",
        "import random\n",
        "import  re\n",
        "import os\n",
        "import unicodedata\n",
        "import codecs\n",
        "import itertools"
      ],
      "metadata": {
        "id": "2CrntvhGzWQY"
      },
      "id": "2CrntvhGzWQY",
      "execution_count": 43,
      "outputs": []
    },
    {
      "cell_type": "code",
      "source": [
        "CUDA = torch.cuda.is_available()\n",
        "device = torch.device(\"cuda\" if CUDA else \"cpu\")"
      ],
      "metadata": {
        "id": "4ZBjTtYLzWVf"
      },
      "id": "4ZBjTtYLzWVf",
      "execution_count": 44,
      "outputs": []
    },
    {
      "cell_type": "code",
      "source": [
        "print(device)"
      ],
      "metadata": {
        "id": "DHgTduF6zWZt",
        "outputId": "d851fade-49d8-4deb-afb8-b6dc76e14410",
        "colab": {
          "base_uri": "https://localhost:8080/"
        }
      },
      "id": "DHgTduF6zWZt",
      "execution_count": 46,
      "outputs": [
        {
          "output_type": "stream",
          "name": "stdout",
          "text": [
            "cuda\n"
          ]
        }
      ]
    },
    {
      "cell_type": "code",
      "source": [
        ""
      ],
      "metadata": {
        "id": "sd1OvaSD4e5U"
      },
      "id": "sd1OvaSD4e5U",
      "execution_count": null,
      "outputs": []
    },
    {
      "cell_type": "code",
      "source": [
        ""
      ],
      "metadata": {
        "id": "4ZKToh0i4fGC"
      },
      "id": "4ZKToh0i4fGC",
      "execution_count": null,
      "outputs": []
    },
    {
      "cell_type": "code",
      "source": [
        ""
      ],
      "metadata": {
        "id": "b1ugfYsX4fKL"
      },
      "id": "b1ugfYsX4fKL",
      "execution_count": null,
      "outputs": []
    },
    {
      "cell_type": "code",
      "source": [
        ""
      ],
      "metadata": {
        "id": "vz69qxjT4fOa"
      },
      "id": "vz69qxjT4fOa",
      "execution_count": null,
      "outputs": []
    },
    {
      "cell_type": "code",
      "source": [
        ""
      ],
      "metadata": {
        "id": "UBXwN9gu4fSb"
      },
      "id": "UBXwN9gu4fSb",
      "execution_count": null,
      "outputs": []
    },
    {
      "cell_type": "markdown",
      "source": [
        "CUDA = torch.cuda.is_available()\n",
        "print(CUDA)\n",
        "if CUDA:\n",
        "  add_result = add_result.cuda()\n",
        "  print(add_result)"
      ],
      "metadata": {
        "id": "57106cef"
      },
      "id": "57106cef"
    }
  ],
  "metadata": {
    "kernelspec": {
      "display_name": "Python 3 (ipykernel)",
      "language": "python",
      "name": "python3"
    },
    "language_info": {
      "codemirror_mode": {
        "name": "ipython",
        "version": 3
      },
      "file_extension": ".py",
      "mimetype": "text/x-python",
      "name": "python",
      "nbconvert_exporter": "python",
      "pygments_lexer": "ipython3",
      "version": "3.7.11"
    },
    "colab": {
      "name": "appliedDeepLearningBuildAChatbot.ipynb",
      "provenance": []
    },
    "accelerator": "GPU"
  },
  "nbformat": 4,
  "nbformat_minor": 5
}