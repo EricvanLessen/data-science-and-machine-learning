{
  "nbformat": 4,
  "nbformat_minor": 0,
  "metadata": {
    "colab": {
      "name": "support-vector-machines-in-python.ipynb",
      "provenance": []
    },
    "kernelspec": {
      "name": "python3",
      "display_name": "Python 3"
    },
    "language_info": {
      "name": "python"
    }
  },
  "cells": [
    {
      "cell_type": "markdown",
      "source": [
        "### Support Vector Machines\n",
        "\n",
        "Theory\n",
        "- Convert Linear SVM to Nonlinear SVM\n",
        "- Duality\n",
        "- Extension of Lagrange multipliers\n",
        "- Dual Problem of SVMs\n",
        "- Kernel Trick\n",
        "- Implicit Feature Transformation\n",
        "- Neural Networks\n",
        "- RBF Network\n",
        "- Mashup of SVM and ANN\n",
        "- Neural Network Aproximations of SVMs\n",
        "\n",
        "! Hint: \n",
        "\n",
        "Machine learning is about experimenting, being hands on, writing your own code. Machine learning is about programming. Machine learning is not a philosophy course. If you ask, \"how would this work theoretically,\" write some code and experiment. "
      ],
      "metadata": {
        "id": "nkXFY4NKZXh4"
      }
    },
    {
      "cell_type": "markdown",
      "source": [
        "#### Beginner's Corner"
      ],
      "metadata": {
        "id": "K0gzXAm0c50r"
      }
    },
    {
      "cell_type": "code",
      "source": [
        "from __future__ import print_function, division\n",
        "from builtins import range\n",
        "from sklearn.svm import SVC\n",
        "from datetime import datetime\n",
        "\n",
        "import numpy as np\n",
        "import pandas as pd\n",
        "import matplotlib.pyplot as plt\n",
        "\n",
        "from sklearn.utils import shuffle\n",
        "from sklearn.preprocessing import StandardScaler\n",
        "\n",
        "def getKaggleMNIST():\n",
        "  train = pd.read_csv('../large_files/train.csv').values.astype(np.float64)\n",
        "  train = shuffle(train)\n",
        "\n",
        "  Xtrain = train[:-1000, 1:]\n",
        "  Ytrain = train[:-1000, 0].astype(np.int64)\n",
        "  \n",
        "  Xtest = train[-1000:, 1:]\n",
        "  Ytest = train[-1000:, 0].astype(np.int64)\n",
        "\n",
        "  # scale \n",
        "  Xtrain /= 255.\n",
        "  Xtest /= 255.\n",
        "\n",
        "  return Xtrain, Ytrain, Xtest, Ytest\n",
        "\n",
        "Xtrain, Ytrain, Xtest, Ytest = getKaggleMNIST()\n",
        "\n",
        "model = SVC()\n",
        "\n",
        "t0 = datetime.now()\n",
        "model.fit(Xtrain, Ytrain)\n",
        "print(\"train duration: \", datetime.now() - t0)\n",
        "t0 = datetime.now()\n",
        "print(\"train score: \", model.score(Xtrain, Ytrain), \"duration: \", datetime.now() - t0)\n",
        "t0 = datetime.now()\n",
        "print(\"test score: \", model.score(Xtest, Ytest), \"duration: \", datetime.now() - t0)"
      ],
      "metadata": {
        "id": "Ak1aPRRYZqXh"
      },
      "execution_count": null,
      "outputs": []
    }
  ]
}