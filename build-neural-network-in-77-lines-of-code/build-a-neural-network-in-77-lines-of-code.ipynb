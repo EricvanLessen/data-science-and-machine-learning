{
  "nbformat": 4,
  "nbformat_minor": 0,
  "metadata": {
    "colab": {
      "name": "build-a-neural-network-in-77-lines-of-code.ipynb",
      "provenance": []
    },
    "kernelspec": {
      "name": "python3",
      "display_name": "Python 3"
    },
    "language_info": {
      "name": "python"
    }
  },
  "cells": [
    {
      "cell_type": "code",
      "execution_count": 7,
      "metadata": {
        "colab": {
          "base_uri": "https://localhost:8080/"
        },
        "id": "hyb-AvCXKVTZ",
        "outputId": "a6a5409d-9897-4ad5-ea5c-6d3a96f87139"
      },
      "outputs": [
        {
          "output_type": "stream",
          "name": "stdout",
          "text": [
            "Random starting weights: [-0.7312715117751976, 0.6948674738744653, 0.5275492379532281]\n",
            "New weights after training: [9.672881904304742, -0.20818131327443068, -4.629370228924396]\n",
            "prediciton for new situation [1, 0, 0]:  0.9999370358392512\n"
          ]
        }
      ],
      "source": [
        "import math\n",
        "import random\n",
        "\n",
        "class NeuralNetwork():\n",
        "  def __init__(self):\n",
        "\n",
        "    # get the same random numbers each time\n",
        "    random.seed(1)\n",
        "\n",
        "    # create three random values within -1 and 1\n",
        "    self.weights = [random.uniform(-1, 1), random.uniform(-1, 1), random.uniform(-1, 1)]\n",
        "  \n",
        "  # pass sum of inputs through the activation function\n",
        "  def think(self, neuron_inputs):\n",
        "    sum_of_weighted_inputs = self.__sum_of_weighted_inputs(neuron_inputs)\n",
        "    neuron_output = self.__sigmoid(sum_of_weighted_inputs)\n",
        "    return neuron_output\n",
        "  \n",
        "  def train(self, training_set_examples, number_of_iterations):\n",
        "    for iteration in range(number_of_iterations):\n",
        "      for training_set_example in training_set_examples:\n",
        "\n",
        "        # predict\n",
        "        predicted_output = self.think(training_set_example[\"inputs\"])\n",
        "\n",
        "        # calculate error\n",
        "        error_in_output = training_set_example[\"output\"] - predicted_output\n",
        "\n",
        "        # adjust each weight\n",
        "        for index in range(len(self.weights)):\n",
        "\n",
        "          # get the input associated with the weight\n",
        "          neuron_input = training_set_example[\"inputs\"][index]\n",
        "\n",
        "          # calculate adjustment\n",
        "          adjust_weight = neuron_input * error_in_output * self.__sigmoid_gradient(predicted_output)\n",
        "\n",
        "          # adjust the weight\n",
        "          self.weights[index] += adjust_weight          \n",
        "\n",
        "  def __sigmoid(self, sum_of_weighted_inputs):\n",
        "    return 1 / (1 + math.exp(-sum_of_weighted_inputs))\n",
        "\n",
        "  def __sigmoid_gradient(self, neuron_output):\n",
        "    return neuron_output * (1 - neuron_output)    \n",
        "\n",
        "  # multiply each input by its weight and get sum in total\n",
        "  def __sum_of_weighted_inputs(self, neuron_inputs):\n",
        "    sum_of_weighted_inputs = 0\n",
        "    for index, neuron_input in enumerate(neuron_inputs):\n",
        "      sum_of_weighted_inputs += self.weights[index] * neuron_input\n",
        "    return sum_of_weighted_inputs\n",
        "\n",
        "\n",
        "neural_network = NeuralNetwork()\n",
        "\n",
        "print(\"Random starting weights: \" + str(neural_network.weights))\n",
        "\n",
        "training_set_examples = [\n",
        "  {\"inputs\": [0, 0, 1], \"output\": 0}, \n",
        "  {\"inputs\": [1, 1, 1], \"output\": 1},\n",
        "  {\"inputs\": [1, 0, 1], \"output\": 1},\n",
        "  {\"inputs\": [0, 1, 1], \"output\": 0},\n",
        "]\n",
        "\n",
        "# train the neural network\n",
        "neural_network.train(training_set_examples, number_of_iterations=10000)\n",
        "\n",
        "print(\"New weights after training: \" + str(neural_network.weights))\n",
        "\n",
        "# new situation\n",
        "new_situation = [1, 0, 0]\n",
        "prediction = neural_network.think(new_situation)\n",
        "\n",
        "print(\"prediciton for new situation [1, 0, 0]: \", str(prediction))\n",
        "\n",
        "\n",
        "\n"
      ]
    }
  ]
}