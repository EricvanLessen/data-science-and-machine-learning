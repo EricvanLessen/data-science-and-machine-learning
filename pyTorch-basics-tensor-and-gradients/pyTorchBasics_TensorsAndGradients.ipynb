{
 "cells": [
  {
   "cell_type": "code",
   "execution_count": 1,
   "id": "10cfeb54",
   "metadata": {},
   "outputs": [
    {
     "name": "stdout",
     "output_type": "stream",
     "text": [
      "Looking in links: https://download.pytorch.org/whl/torch_stable.html\n",
      "Requirement already satisfied: numpy in /home/haniel/anaconda3/lib/python3.7/site-packages (1.21.2)\n",
      "Collecting torch==1.7.0+cpu\n",
      "  Downloading https://download.pytorch.org/whl/cpu/torch-1.7.0%2Bcpu-cp37-cp37m-linux_x86_64.whl (159.3 MB)\n",
      "\u001b[K     |████████████████████████████████| 159.3 MB 1.3 kB/s eta 0:00:01   |▌                               | 2.4 MB 7.5 MB/s eta 0:00:21     |█                               | 5.2 MB 7.5 MB/s eta 0:00:21     |█▍                              | 7.1 MB 7.5 MB/s eta 0:00:21     |█████▍                          | 26.9 MB 8.2 MB/s eta 0:00:17     |█████▌                          | 27.7 MB 8.2 MB/s eta 0:00:17     |█████████████                   | 65.2 MB 6.1 MB/s eta 0:00:16     |██████████████▉                 | 73.9 MB 7.2 MB/s eta 0:00:12     |█████████████████▌              | 86.9 MB 7.2 MB/s eta 0:00:11     |██████████████████              | 89.9 MB 7.2 MB/s eta 0:00:10     |████████████████████▏           | 100.2 MB 6.3 MB/s eta 0:00:10     |████████████████████▌           | 102.1 MB 6.3 MB/s eta 0:00:10     |████████████████████▉           | 103.6 MB 6.3 MB/s eta 0:00:09     |████████████████████████        | 119.7 MB 6.8 MB/s eta 0:00:06     |████████████████████████████▎   | 140.6 MB 7.1 MB/s eta 0:00:03     |████████████████████████████▉   | 143.8 MB 7.1 MB/s eta 0:00:03\n",
      "\u001b[?25hCollecting torchvision==0.8.1+cpu\n",
      "  Downloading https://download.pytorch.org/whl/cpu/torchvision-0.8.1%2Bcpu-cp37-cp37m-linux_x86_64.whl (11.8 MB)\n",
      "\u001b[K     |████████████████████████████████| 11.8 MB 7.2 MB/s eta 0:00:01    |█████████████████▍              | 6.4 MB 3.5 MB/s eta 0:00:02\n",
      "\u001b[?25hCollecting torchaudio==0.7.0\n",
      "  Downloading torchaudio-0.7.0-cp37-cp37m-manylinux1_x86_64.whl (7.6 MB)\n",
      "\u001b[K     |████████████████████████████████| 7.6 MB 6.2 MB/s eta 0:00:01\n",
      "\u001b[?25hCollecting dataclasses\n",
      "  Downloading dataclasses-0.6-py3-none-any.whl (14 kB)\n",
      "Requirement already satisfied: future in /home/haniel/anaconda3/lib/python3.7/site-packages (from torch==1.7.0+cpu) (0.18.2)\n",
      "Requirement already satisfied: typing-extensions in /home/haniel/anaconda3/lib/python3.7/site-packages (from torch==1.7.0+cpu) (3.10.0.2)\n",
      "Requirement already satisfied: pillow>=4.1.1 in /home/haniel/anaconda3/lib/python3.7/site-packages (from torchvision==0.8.1+cpu) (8.4.0)\n",
      "Installing collected packages: dataclasses, torch, torchvision, torchaudio\n",
      "Successfully installed dataclasses-0.6 torch-1.7.0+cpu torchaudio-0.7.0 torchvision-0.8.1+cpu\n"
     ]
    }
   ],
   "source": [
    "# Uncomment and run the appropriate command for your operating system, if required\n",
    "\n",
    "# Linux / Binder\n",
    "!pip install numpy torch==1.7.0+cpu torchvision==0.8.1+cpu torchaudio==0.7.0 -f https://download.pytorch.org/whl/torch_stable.html\n",
    "\n",
    "# Windows\n",
    "# !pip install numpy torch==1.7.0+cpu torchvision==0.8.1+cpu torchaudio==0.7.0 -f https://download.pytorch.org/whl/torch_stable.html\n",
    "\n",
    "# MacOS\n",
    "# !pip install numpy torch torchvision torchaudio"
   ]
  },
  {
   "cell_type": "code",
   "execution_count": 3,
   "id": "2dd61513",
   "metadata": {},
   "outputs": [
    {
     "data": {
      "text/plain": [
       "tensor(4.)"
      ]
     },
     "execution_count": 3,
     "metadata": {},
     "output_type": "execute_result"
    }
   ],
   "source": [
    "# import torch for starters\n",
    "import torch\n",
    "\n",
    "# A tensor is a number, vector, matrix, or any n-dimensional array. \n",
    "# Let's create a tensor with a single number. \n",
    "t1 = torch.tensor(4.)\n",
    "t1"
   ]
  },
  {
   "cell_type": "code",
   "execution_count": 6,
   "id": "9cd34b5d",
   "metadata": {},
   "outputs": [
    {
     "name": "stdout",
     "output_type": "stream",
     "text": [
      "torch.float32\n",
      "tensor([1., 2., 3., 4.])\n"
     ]
    }
   ],
   "source": [
    "# 4. is shorthand for floating point number, lets verify \n",
    "# by checking the dtype attribute ofour tensor\n",
    "print(t1.dtype)\n",
    "\n",
    "# now lets create more complex tensors\n",
    "t2 = torch.tensor([1., 2, 3, 4])\n",
    "print(t2)"
   ]
  },
  {
   "cell_type": "code",
   "execution_count": 9,
   "id": "38796f0e",
   "metadata": {},
   "outputs": [
    {
     "name": "stdout",
     "output_type": "stream",
     "text": [
      "tensor([[ 5.,  6.],\n",
      "        [ 7.,  8.],\n",
      "        [ 9., 10.]])\n"
     ]
    }
   ],
   "source": [
    "# Matrix\n",
    "t3 = torch.tensor([[5., 6], \n",
    "                   [7, 8],\n",
    "                   [9, 10]])\n",
    "print(t3)"
   ]
  },
  {
   "cell_type": "code",
   "execution_count": 11,
   "id": "1ce53bc8",
   "metadata": {},
   "outputs": [
    {
     "name": "stdout",
     "output_type": "stream",
     "text": [
      "tensor([[[11., 12., 13.],\n",
      "         [13., 14., 15.]],\n",
      "\n",
      "        [[15., 16., 17.],\n",
      "         [17., 18., 19.]]])\n"
     ]
    }
   ],
   "source": [
    "# 3-dimensional array\n",
    "t4 = torch.tensor([\n",
    "    [[11, 12, 13],\n",
    "     [13, 14, 15]],\n",
    "    [[15, 16, 17],\n",
    "     [17., 18., 19.]]])\n",
    "print(t4)"
   ]
  },
  {
   "cell_type": "code",
   "execution_count": 14,
   "id": "6cac2417",
   "metadata": {},
   "outputs": [
    {
     "name": "stdout",
     "output_type": "stream",
     "text": [
      "torch.Size([])\n",
      "torch.Size([4])\n",
      "torch.Size([3, 2])\n",
      "torch.Size([2, 2, 3])\n"
     ]
    }
   ],
   "source": [
    "# lets inspect the shapes\n",
    "print(t1.shape)\n",
    "print(t2.shape)\n",
    "print(t3.shape)\n",
    "print(t4.shape)"
   ]
  },
  {
   "cell_type": "code",
   "execution_count": 19,
   "id": "4f5a5acc",
   "metadata": {},
   "outputs": [
    {
     "name": "stdout",
     "output_type": "stream",
     "text": [
      "tensor(17., grad_fn=<AddBackward0>)\n"
     ]
    }
   ],
   "source": [
    "# let's compute gradients automatically\n",
    "# we create three tensors, that are all numbers with a parameter\n",
    "# requires_grad set to true. Then we create y as a new vector.\n",
    "x = torch.tensor(3.)\n",
    "w = torch.tensor(4., requires_grad=True)\n",
    "b = torch.tensor(5., requires_grad=True)\n",
    "y = w * x + b\n",
    "print(y)"
   ]
  },
  {
   "cell_type": "code",
   "execution_count": 20,
   "id": "b1c52ad7",
   "metadata": {},
   "outputs": [],
   "source": [
    "# lets compute the derivatives, invoke .backward\n",
    "y.backward()"
   ]
  },
  {
   "cell_type": "code",
   "execution_count": 21,
   "id": "c0b652f2",
   "metadata": {},
   "outputs": [
    {
     "name": "stdout",
     "output_type": "stream",
     "text": [
      "dy/dx: None\n",
      "dy/dw: tensor(3.)\n",
      "dy/db: tensor(1.)\n"
     ]
    }
   ],
   "source": [
    "# now we can display the gradients\n",
    "print('dy/dx:', x.grad)\n",
    "print('dy/dw:', w.grad)\n",
    "print('dy/db:', b.grad)"
   ]
  },
  {
   "cell_type": "code",
   "execution_count": 22,
   "id": "6bb8459a",
   "metadata": {},
   "outputs": [
    {
     "name": "stdout",
     "output_type": "stream",
     "text": [
      "tensor([[42, 42],\n",
      "        [42, 42],\n",
      "        [42, 42]])\n"
     ]
    }
   ],
   "source": [
    "# tensor manipulation\n",
    "t6 = torch.full((3,2))"
   ]
  },
  {
   "cell_type": "code",
   "execution_count": 23,
   "id": "b0660e31",
   "metadata": {},
   "outputs": [
    {
     "name": "stdout",
     "output_type": "stream",
     "text": [
      "tensor([[ 5.,  6.],\n",
      "        [ 7.,  8.],\n",
      "        [ 9., 10.],\n",
      "        [42., 42.],\n",
      "        [42., 42.],\n",
      "        [42., 42.]])\n"
     ]
    }
   ],
   "source": [
    "# concatenate tensors\n",
    "t7 = torch.cat((t3, t6))\n",
    "print(t7)"
   ]
  },
  {
   "cell_type": "code",
   "execution_count": 25,
   "id": "935c6a99",
   "metadata": {},
   "outputs": [
    {
     "name": "stdout",
     "output_type": "stream",
     "text": [
      "tensor([[[-0.9589, -0.2794],\n",
      "         [ 0.6570,  0.9894]],\n",
      "\n",
      "        [[ 0.4121, -0.5440],\n",
      "         [-0.9165, -0.9165]],\n",
      "\n",
      "        [[-0.9165, -0.9165],\n",
      "         [-0.9165, -0.9165]]])\n"
     ]
    }
   ],
   "source": [
    "# change the shape of a tensor\n",
    "t8 = torch.sin(t7)\n",
    "t9 = t8.reshape(3, 2, 2)\n",
    "print(t9)"
   ]
  },
  {
   "cell_type": "code",
   "execution_count": null,
   "id": "36e5b25f",
   "metadata": {},
   "outputs": [],
   "source": [
    "# we can try more methods \n",
    "# https://pytorch.org/docs/stable/torch.html (delete later in notebook)\n",
    "# and learn more about numpy from \n",
    "# https://jovian.ai/aakashns/python-numerical-computing-with-numpy"
   ]
  }
 ],
 "metadata": {
  "kernelspec": {
   "display_name": "Python 3 (ipykernel)",
   "language": "python",
   "name": "python3"
  },
  "language_info": {
   "codemirror_mode": {
    "name": "ipython",
    "version": 3
   },
   "file_extension": ".py",
   "mimetype": "text/x-python",
   "name": "python",
   "nbconvert_exporter": "python",
   "pygments_lexer": "ipython3",
   "version": "3.7.11"
  }
 },
 "nbformat": 4,
 "nbformat_minor": 5
}
